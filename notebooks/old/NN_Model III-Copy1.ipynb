{
 "cells": [
  {
   "cell_type": "markdown",
   "metadata": {},
   "source": [
    "# NN Model III\n",
    "- Scale Attack and Defense relative to enemy HP\n",
    "- include Legendary field, and Level"
   ]
  },
  {
   "cell_type": "code",
   "execution_count": 10,
   "metadata": {},
   "outputs": [],
   "source": [
    "import tensorflow\n",
    "from tensorflow import keras\n",
    "import tensorflow.keras.layers as layers\n",
    "\n",
    "import sys\n",
    "import numpy as np\n",
    "import os\n",
    "import matplotlib.pyplot as plt\n",
    "\n",
    "import sklearn\n",
    "from sklearn.model_selection import train_test_split\n",
    "from sklearn.compose import ColumnTransformer\n",
    "from sklearn.pipeline import Pipeline\n",
    "from sklearn.base import BaseEstimator, TransformerMixin\n",
    "from sklearn.preprocessing import StandardScaler\n",
    "from sklearn.pipeline import make_pipeline, Pipeline\n",
    "from sklearn.preprocessing import StandardScaler, OneHotEncoder, OrdinalEncoder\n",
    "\n",
    "from kedro.extras.datasets.pandas import CSVDataSet"
   ]
  },
  {
   "cell_type": "markdown",
   "metadata": {},
   "source": [
    "### Loading Data"
   ]
  },
  {
   "cell_type": "code",
   "execution_count": 2,
   "metadata": {},
   "outputs": [
    {
     "name": "stdout",
     "output_type": "stream",
     "text": [
      "2020-05-26 13:17:22,458 - kedro.io.data_catalog - INFO - Loading data from `Battle_Results_Train` (CSVDataSet)...\n"
     ]
    }
   ],
   "source": [
    "BattleResults = catalog.load('Battle_Results_Train')"
   ]
  },
  {
   "cell_type": "code",
   "execution_count": 3,
   "metadata": {},
   "outputs": [
    {
     "data": {
      "text/html": [
       "<div>\n",
       "<style scoped>\n",
       "    .dataframe tbody tr th:only-of-type {\n",
       "        vertical-align: middle;\n",
       "    }\n",
       "\n",
       "    .dataframe tbody tr th {\n",
       "        vertical-align: top;\n",
       "    }\n",
       "\n",
       "    .dataframe thead th {\n",
       "        text-align: right;\n",
       "    }\n",
       "</style>\n",
       "<table border=\"1\" class=\"dataframe\">\n",
       "  <thead>\n",
       "    <tr style=\"text-align: right;\">\n",
       "      <th></th>\n",
       "      <th>Name_1</th>\n",
       "      <th>Level_1</th>\n",
       "      <th>HP_1</th>\n",
       "      <th>Attack_1</th>\n",
       "      <th>Defense_1</th>\n",
       "      <th>Sp_Atk_1</th>\n",
       "      <th>Sp_Def_1</th>\n",
       "      <th>Speed_1</th>\n",
       "      <th>Legendary_1</th>\n",
       "      <th>Name_2</th>\n",
       "      <th>Level_2</th>\n",
       "      <th>HP_2</th>\n",
       "      <th>Attack_2</th>\n",
       "      <th>Defense_2</th>\n",
       "      <th>Sp_Atk_2</th>\n",
       "      <th>Sp_Def_2</th>\n",
       "      <th>Speed_2</th>\n",
       "      <th>Legendary_2</th>\n",
       "      <th>WeatherAndTime</th>\n",
       "      <th>BattleResult</th>\n",
       "    </tr>\n",
       "  </thead>\n",
       "  <tbody>\n",
       "    <tr>\n",
       "      <th>0</th>\n",
       "      <td>Psyduck</td>\n",
       "      <td>8</td>\n",
       "      <td>68</td>\n",
       "      <td>65</td>\n",
       "      <td>59</td>\n",
       "      <td>82</td>\n",
       "      <td>63</td>\n",
       "      <td>69</td>\n",
       "      <td>False</td>\n",
       "      <td>Weedle</td>\n",
       "      <td>75</td>\n",
       "      <td>336</td>\n",
       "      <td>192</td>\n",
       "      <td>172</td>\n",
       "      <td>103</td>\n",
       "      <td>103</td>\n",
       "      <td>279</td>\n",
       "      <td>False</td>\n",
       "      <td>Unknown</td>\n",
       "      <td>-336</td>\n",
       "    </tr>\n",
       "    <tr>\n",
       "      <th>1</th>\n",
       "      <td>Rapidash</td>\n",
       "      <td>86</td>\n",
       "      <td>691</td>\n",
       "      <td>707</td>\n",
       "      <td>492</td>\n",
       "      <td>571</td>\n",
       "      <td>571</td>\n",
       "      <td>752</td>\n",
       "      <td>False</td>\n",
       "      <td>Zapdos</td>\n",
       "      <td>72</td>\n",
       "      <td>607</td>\n",
       "      <td>523</td>\n",
       "      <td>499</td>\n",
       "      <td>722</td>\n",
       "      <td>523</td>\n",
       "      <td>577</td>\n",
       "      <td>True</td>\n",
       "      <td>Sunshine</td>\n",
       "      <td>133</td>\n",
       "    </tr>\n",
       "    <tr>\n",
       "      <th>2</th>\n",
       "      <td>Dratini</td>\n",
       "      <td>93</td>\n",
       "      <td>636</td>\n",
       "      <td>698</td>\n",
       "      <td>484</td>\n",
       "      <td>538</td>\n",
       "      <td>538</td>\n",
       "      <td>538</td>\n",
       "      <td>False</td>\n",
       "      <td>Marowak</td>\n",
       "      <td>73</td>\n",
       "      <td>446</td>\n",
       "      <td>529</td>\n",
       "      <td>720</td>\n",
       "      <td>328</td>\n",
       "      <td>529</td>\n",
       "      <td>284</td>\n",
       "      <td>False</td>\n",
       "      <td>Windy</td>\n",
       "      <td>324</td>\n",
       "    </tr>\n",
       "    <tr>\n",
       "      <th>3</th>\n",
       "      <td>Horsea</td>\n",
       "      <td>6</td>\n",
       "      <td>41</td>\n",
       "      <td>47</td>\n",
       "      <td>85</td>\n",
       "      <td>85</td>\n",
       "      <td>29</td>\n",
       "      <td>72</td>\n",
       "      <td>False</td>\n",
       "      <td>Moltres</td>\n",
       "      <td>86</td>\n",
       "      <td>919</td>\n",
       "      <td>886</td>\n",
       "      <td>797</td>\n",
       "      <td>1088</td>\n",
       "      <td>750</td>\n",
       "      <td>797</td>\n",
       "      <td>True</td>\n",
       "      <td>Night</td>\n",
       "      <td>-919</td>\n",
       "    </tr>\n",
       "    <tr>\n",
       "      <th>4</th>\n",
       "      <td>Golbat</td>\n",
       "      <td>78</td>\n",
       "      <td>571</td>\n",
       "      <td>519</td>\n",
       "      <td>449</td>\n",
       "      <td>400</td>\n",
       "      <td>481</td>\n",
       "      <td>567</td>\n",
       "      <td>False</td>\n",
       "      <td>Kingler</td>\n",
       "      <td>96</td>\n",
       "      <td>637</td>\n",
       "      <td>1178</td>\n",
       "      <td>1049</td>\n",
       "      <td>456</td>\n",
       "      <td>456</td>\n",
       "      <td>682</td>\n",
       "      <td>False</td>\n",
       "      <td>Unknown</td>\n",
       "      <td>-560</td>\n",
       "    </tr>\n",
       "  </tbody>\n",
       "</table>\n",
       "</div>"
      ],
      "text/plain": [
       "     Name_1  Level_1  HP_1  Attack_1  Defense_1  Sp_Atk_1  Sp_Def_1  Speed_1  \\\n",
       "0   Psyduck        8    68        65         59        82        63       69   \n",
       "1  Rapidash       86   691       707        492       571       571      752   \n",
       "2   Dratini       93   636       698        484       538       538      538   \n",
       "3    Horsea        6    41        47         85        85        29       72   \n",
       "4    Golbat       78   571       519        449       400       481      567   \n",
       "\n",
       "   Legendary_1   Name_2  Level_2  HP_2  Attack_2  Defense_2  Sp_Atk_2  \\\n",
       "0        False   Weedle       75   336       192        172       103   \n",
       "1        False   Zapdos       72   607       523        499       722   \n",
       "2        False  Marowak       73   446       529        720       328   \n",
       "3        False  Moltres       86   919       886        797      1088   \n",
       "4        False  Kingler       96   637      1178       1049       456   \n",
       "\n",
       "   Sp_Def_2  Speed_2  Legendary_2 WeatherAndTime  BattleResult  \n",
       "0       103      279        False        Unknown          -336  \n",
       "1       523      577         True       Sunshine           133  \n",
       "2       529      284        False          Windy           324  \n",
       "3       750      797         True          Night          -919  \n",
       "4       456      682        False        Unknown          -560  "
      ]
     },
     "execution_count": 3,
     "metadata": {},
     "output_type": "execute_result"
    }
   ],
   "source": [
    "BattleResults.head()"
   ]
  },
  {
   "cell_type": "markdown",
   "metadata": {},
   "source": [
    "### Data Pipeline"
   ]
  },
  {
   "cell_type": "code",
   "execution_count": 16,
   "metadata": {},
   "outputs": [],
   "source": [
    "Encoder = OrdinalEncoder()"
   ]
  },
  {
   "cell_type": "code",
   "execution_count": 17,
   "metadata": {},
   "outputs": [
    {
     "data": {
      "text/plain": [
       "array([[3., 3.],\n",
       "       [2., 2.],\n",
       "       [4., 4.],\n",
       "       ...,\n",
       "       [3., 3.],\n",
       "       [4., 4.],\n",
       "       [4., 4.]])"
      ]
     },
     "execution_count": 17,
     "metadata": {},
     "output_type": "execute_result"
    }
   ],
   "source": [
    "pipeline = Pipeline([\n",
    "    ('add column', addColumn()),\n",
    "    (\"dfdf\", ColumnTransformer([\n",
    "        (\"Weather\", Encoder, ['WeatherAndTime']),\n",
    "        (\"Weather2\", Encoder, ['add'])\n",
    "    ]))\n",
    "])\n",
    "pipeline.fit_transform(BattleResults)"
   ]
  },
  {
   "cell_type": "code",
   "execution_count": 8,
   "metadata": {},
   "outputs": [],
   "source": [
    "class addColumn(BaseEstimator, TransformerMixin):\n",
    "    def __init__(self): # no *args or **kargs\n",
    "        pass\n",
    "    def fit(self, X, y=None):\n",
    "        return self  # nothing else to do\n",
    "    def transform(self, df):\n",
    "        df['add'] = df['WeatherAndTime']\n",
    "        return df\n",
    "    \n",
    "class HPRelativeScaler(BaseEstimator, TransformerMixin):\n",
    "    \"\"\"\n",
    "    Attack_x relative to HP_y\n",
    "    Defense_x relative to HP_x\n",
    "    \n",
    "    \"\"\"\n",
    "    def __init__(self): # no *args or **kargs\n",
    "        pass\n",
    "    def fit(self, X, y=None):\n",
    "        return self  # nothing else to do\n",
    "    def transform(self, X):\n",
    "        for i in [1, 2]:\n",
    "            X[f'Attack_{i}'] /= X[f'HP_{3-i}']\n",
    "            X[f'Sp_Atk_{i}'] /= X[f'HP_{3-i}']\n",
    "            X[f'Defense_{i}'] /= X[f'HP_{i}']\n",
    "            X[f'Sp_Def_{i}'] /= X[f'HP_{i}']\n",
    "        X.drop(columns=['HP_1', 'HP_2'])\n",
    "        return X.values"
   ]
  },
  {
   "cell_type": "code",
   "execution_count": 9,
   "metadata": {},
   "outputs": [
    {
     "name": "stdout",
     "output_type": "stream",
     "text": [
      "2020-05-25 08:23:19,001 - numexpr.utils - INFO - Note: NumExpr detected 16 cores but \"NUMEXPR_MAX_THREADS\" not set, so enforcing safe limit of 8.\n",
      "2020-05-25 08:23:19,001 - numexpr.utils - INFO - NumExpr defaulting to 8 threads.\n"
     ]
    }
   ],
   "source": [
    "numerical_attributes = ['HP_1', 'Attack_1', 'Defense_1', 'Sp_Atk_1', 'Sp_Def_1', 'Speed_1', \n",
    "                          'HP_2', 'Attack_2', 'Defense_2', 'Sp_Atk_2', 'Sp_Def_2', 'Speed_2']\n",
    "full_pipeline = ColumnTransformer([\n",
    "        (\"Numerical Attributes\", StandardScaler(), numerical_attributes),\n",
    "        (\"Boolean\", \"passthrough\", ['Legendary_1', 'Legendary_2']),\n",
    "        (\"Level\" , LevelScaler(), ['Level_1', 'Level_2']),\n",
    "    ])\n",
    "full_pipeline.fit(BattleResults); #battle_data"
   ]
  },
  {
   "cell_type": "code",
   "execution_count": 49,
   "metadata": {},
   "outputs": [],
   "source": [
    "x_train = full_pipeline.transform(BattleResults_train)\n",
    "x_val = full_pipeline.transform(BattleResults_val)"
   ]
  },
  {
   "cell_type": "code",
   "execution_count": 50,
   "metadata": {},
   "outputs": [
    {
     "data": {
      "text/plain": [
       "array([[ 0.10318571, -0.314413  , -0.35908019, ...,  0.        ,\n",
       "         0.71717172,  0.78787879],\n",
       "       [ 1.30515212,  0.23830986,  1.21471438, ...,  0.        ,\n",
       "         0.86868687,  0.64646465],\n",
       "       [-0.64852027,  0.45515605, -0.04255309, ...,  0.        ,\n",
       "         0.47474747,  0.1010101 ],\n",
       "       ...,\n",
       "       [ 1.19449489,  0.41910742, -1.12569525, ...,  0.        ,\n",
       "         0.64646465,  0.09090909],\n",
       "       [-0.3051013 , -0.35946723, -0.94433481, ...,  0.        ,\n",
       "         0.62626263,  0.45454545],\n",
       "       [-0.7591775 , -0.27638261, -0.57727756, ...,  0.        ,\n",
       "         0.08080808,  0.2020202 ]])"
      ]
     },
     "execution_count": 50,
     "metadata": {},
     "output_type": "execute_result"
    }
   ],
   "source": [
    "x_train"
   ]
  },
  {
   "cell_type": "markdown",
   "metadata": {},
   "source": [
    "### Model"
   ]
  },
  {
   "cell_type": "markdown",
   "metadata": {},
   "source": [
    "- With Level and and Legendary 0.12"
   ]
  },
  {
   "cell_type": "code",
   "execution_count": 51,
   "metadata": {},
   "outputs": [],
   "source": [
    "# 10 epochs, Validation  RMSE: 0.17\n",
    "model = keras.models.Sequential([\n",
    "    layers.Input(shape=(x_train.shape[1],)),\n",
    "    layers.Dense(200, activation='relu'),\n",
    "    layers.Dense(200, activation='relu'),\n",
    "    layers.Dense(200, activation='relu'),\n",
    "    layers.Dense(1, activation='tanh')\n",
    "])"
   ]
  },
  {
   "cell_type": "code",
   "execution_count": 112,
   "metadata": {},
   "outputs": [],
   "source": [
    "lr_schedule = keras.optimizers.schedules.ExponentialDecay(\n",
    "    initial_learning_rate=3e-3,\n",
    "    decay_steps=10000,\n",
    "    decay_rate=0.9)"
   ]
  },
  {
   "cell_type": "code",
   "execution_count": 52,
   "metadata": {},
   "outputs": [],
   "source": [
    "model.compile(loss='mse',\n",
    "              optimizer=keras.optimizers.RMSprop(learning_rate=3e-3),\n",
    "              metrics=['RootMeanSquaredError'])"
   ]
  },
  {
   "cell_type": "markdown",
   "metadata": {},
   "source": [
    "### Train"
   ]
  },
  {
   "cell_type": "code",
   "execution_count": 53,
   "metadata": {},
   "outputs": [
    {
     "name": "stdout",
     "output_type": "stream",
     "text": [
      "Epoch 1/20\n",
      "1912/1912 [==============================] - 10s 5ms/step - loss: 0.0826 - root_mean_squared_error: 0.2873 - val_loss: 0.0710 - val_root_mean_squared_error: 0.2664\n",
      "Epoch 2/20\n",
      "1912/1912 [==============================] - 10s 5ms/step - loss: 0.0672 - root_mean_squared_error: 0.2592 - val_loss: 0.0610 - val_root_mean_squared_error: 0.2469\n",
      "Epoch 3/20\n",
      "1912/1912 [==============================] - 10s 5ms/step - loss: 0.0581 - root_mean_squared_error: 0.2410 - val_loss: 0.0523 - val_root_mean_squared_error: 0.2287\n",
      "Epoch 4/20\n",
      "1912/1912 [==============================] - 10s 5ms/step - loss: 0.0503 - root_mean_squared_error: 0.2242 - val_loss: 0.0482 - val_root_mean_squared_error: 0.2194\n",
      "Epoch 5/20\n",
      "1912/1912 [==============================] - 10s 5ms/step - loss: 0.0439 - root_mean_squared_error: 0.2096 - val_loss: 0.0415 - val_root_mean_squared_error: 0.2037\n",
      "Epoch 6/20\n",
      "1912/1912 [==============================] - 10s 5ms/step - loss: 0.0390 - root_mean_squared_error: 0.1975 - val_loss: 0.0383 - val_root_mean_squared_error: 0.1956\n",
      "Epoch 7/20\n",
      "1912/1912 [==============================] - 10s 5ms/step - loss: 0.0352 - root_mean_squared_error: 0.1876 - val_loss: 0.0343 - val_root_mean_squared_error: 0.1853\n",
      "Epoch 8/20\n",
      "1912/1912 [==============================] - 10s 5ms/step - loss: 0.0321 - root_mean_squared_error: 0.1792 - val_loss: 0.0338 - val_root_mean_squared_error: 0.1839\n",
      "Epoch 9/20\n",
      "1912/1912 [==============================] - 10s 5ms/step - loss: 0.0298 - root_mean_squared_error: 0.1726 - val_loss: 0.0290 - val_root_mean_squared_error: 0.1704\n",
      "Epoch 10/20\n",
      "1912/1912 [==============================] - 10s 5ms/step - loss: 0.0277 - root_mean_squared_error: 0.1666 - val_loss: 0.0288 - val_root_mean_squared_error: 0.1698\n",
      "Epoch 11/20\n",
      "1912/1912 [==============================] - 10s 5ms/step - loss: 0.0261 - root_mean_squared_error: 0.1615 - val_loss: 0.0309 - val_root_mean_squared_error: 0.1758\n",
      "Epoch 12/20\n",
      "1912/1912 [==============================] - 10s 5ms/step - loss: 0.0246 - root_mean_squared_error: 0.1569 - val_loss: 0.0270 - val_root_mean_squared_error: 0.1643\n",
      "Epoch 13/20\n",
      "1912/1912 [==============================] - 10s 5ms/step - loss: 0.0236 - root_mean_squared_error: 0.1535 - val_loss: 0.0259 - val_root_mean_squared_error: 0.1609\n",
      "Epoch 14/20\n",
      "1912/1912 [==============================] - 10s 5ms/step - loss: 0.0225 - root_mean_squared_error: 0.1500 - val_loss: 0.0227 - val_root_mean_squared_error: 0.1507\n",
      "Epoch 15/20\n",
      "1912/1912 [==============================] - 10s 5ms/step - loss: 0.0217 - root_mean_squared_error: 0.1474 - val_loss: 0.0221 - val_root_mean_squared_error: 0.1485\n",
      "Epoch 16/20\n",
      "1912/1912 [==============================] - 10s 5ms/step - loss: 0.0210 - root_mean_squared_error: 0.1450 - val_loss: 0.0221 - val_root_mean_squared_error: 0.1487\n",
      "Epoch 17/20\n",
      "1912/1912 [==============================] - 10s 5ms/step - loss: 0.0204 - root_mean_squared_error: 0.1429 - val_loss: 0.0200 - val_root_mean_squared_error: 0.1416\n",
      "Epoch 18/20\n",
      "1912/1912 [==============================] - 10s 5ms/step - loss: 0.0198 - root_mean_squared_error: 0.1408 - val_loss: 0.0204 - val_root_mean_squared_error: 0.1429\n",
      "Epoch 19/20\n",
      "1912/1912 [==============================] - 10s 5ms/step - loss: 0.0193 - root_mean_squared_error: 0.1390 - val_loss: 0.0205 - val_root_mean_squared_error: 0.1432\n",
      "Epoch 20/20\n",
      "1912/1912 [==============================] - 10s 5ms/step - loss: 0.0189 - root_mean_squared_error: 0.1375 - val_loss: 0.0191 - val_root_mean_squared_error: 0.1383\n"
     ]
    }
   ],
   "source": [
    "history = model.fit(x_train, y_train, epochs=20,\n",
    "                    validation_data=(x_val, y_val),\n",
    "                    batch_size=1024)"
   ]
  },
  {
   "cell_type": "code",
   "execution_count": 54,
   "metadata": {},
   "outputs": [
    {
     "name": "stdout",
     "output_type": "stream",
     "text": [
      "Epoch 1/20\n",
      "1912/1912 [==============================] - 10s 5ms/step - loss: 0.0185 - root_mean_squared_error: 0.1359 - val_loss: 0.0216 - val_root_mean_squared_error: 0.1470\n",
      "Epoch 2/20\n",
      "1912/1912 [==============================] - 10s 5ms/step - loss: 0.0182 - root_mean_squared_error: 0.1348 - val_loss: 0.0218 - val_root_mean_squared_error: 0.1475\n",
      "Epoch 3/20\n",
      "1912/1912 [==============================] - 10s 5ms/step - loss: 0.0178 - root_mean_squared_error: 0.1335 - val_loss: 0.0193 - val_root_mean_squared_error: 0.1390\n",
      "Epoch 4/20\n",
      "1912/1912 [==============================] - 10s 5ms/step - loss: 0.0176 - root_mean_squared_error: 0.1326 - val_loss: 0.0181 - val_root_mean_squared_error: 0.1344\n",
      "Epoch 5/20\n",
      "1912/1912 [==============================] - 10s 5ms/step - loss: 0.0173 - root_mean_squared_error: 0.1314 - val_loss: 0.0203 - val_root_mean_squared_error: 0.1425\n",
      "Epoch 6/20\n",
      "1912/1912 [==============================] - 10s 5ms/step - loss: 0.0171 - root_mean_squared_error: 0.1307 - val_loss: 0.0191 - val_root_mean_squared_error: 0.1382\n",
      "Epoch 7/20\n",
      "1912/1912 [==============================] - 10s 5ms/step - loss: 0.0168 - root_mean_squared_error: 0.1294 - val_loss: 0.0197 - val_root_mean_squared_error: 0.1405\n",
      "Epoch 8/20\n",
      "1912/1912 [==============================] - 10s 5ms/step - loss: 0.0166 - root_mean_squared_error: 0.1287 - val_loss: 0.0172 - val_root_mean_squared_error: 0.1311\n",
      "Epoch 9/20\n",
      "1912/1912 [==============================] - 10s 5ms/step - loss: 0.0164 - root_mean_squared_error: 0.1281 - val_loss: 0.0161 - val_root_mean_squared_error: 0.1269\n",
      "Epoch 10/20\n",
      "1912/1912 [==============================] - 10s 5ms/step - loss: 0.0162 - root_mean_squared_error: 0.1273 - val_loss: 0.0182 - val_root_mean_squared_error: 0.1349\n",
      "Epoch 11/20\n",
      "1912/1912 [==============================] - 10s 5ms/step - loss: 0.0160 - root_mean_squared_error: 0.1267 - val_loss: 0.0179 - val_root_mean_squared_error: 0.1336\n",
      "Epoch 12/20\n",
      "1912/1912 [==============================] - 10s 5ms/step - loss: 0.0158 - root_mean_squared_error: 0.1259 - val_loss: 0.0160 - val_root_mean_squared_error: 0.1266\n",
      "Epoch 13/20\n",
      "1912/1912 [==============================] - 10s 5ms/step - loss: 0.0157 - root_mean_squared_error: 0.1253 - val_loss: 0.0166 - val_root_mean_squared_error: 0.1288\n",
      "Epoch 14/20\n",
      "1912/1912 [==============================] - 10s 5ms/step - loss: 0.0156 - root_mean_squared_error: 0.1248 - val_loss: 0.0167 - val_root_mean_squared_error: 0.1291\n",
      "Epoch 15/20\n",
      "1912/1912 [==============================] - 11s 6ms/step - loss: 0.0155 - root_mean_squared_error: 0.1244 - val_loss: 0.0159 - val_root_mean_squared_error: 0.1262\n",
      "Epoch 16/20\n",
      "1912/1912 [==============================] - 10s 5ms/step - loss: 0.0153 - root_mean_squared_error: 0.1237 - val_loss: 0.0161 - val_root_mean_squared_error: 0.1268\n",
      "Epoch 17/20\n",
      "1912/1912 [==============================] - 11s 6ms/step - loss: 0.0153 - root_mean_squared_error: 0.1235 - val_loss: 0.0160 - val_root_mean_squared_error: 0.1266\n",
      "Epoch 18/20\n",
      "1912/1912 [==============================] - 10s 5ms/step - loss: 0.0151 - root_mean_squared_error: 0.1228 - val_loss: 0.0171 - val_root_mean_squared_error: 0.1309\n",
      "Epoch 19/20\n",
      "1912/1912 [==============================] - 10s 5ms/step - loss: 0.0150 - root_mean_squared_error: 0.1227 - val_loss: 0.0154 - val_root_mean_squared_error: 0.1240\n",
      "Epoch 20/20\n",
      "1912/1912 [==============================] - 10s 5ms/step - loss: 0.0149 - root_mean_squared_error: 0.1222 - val_loss: 0.0156 - val_root_mean_squared_error: 0.1250\n"
     ]
    }
   ],
   "source": [
    "history = model.fit(x_train, y_train, epochs=20,\n",
    "                    validation_data=(x_val, y_val),\n",
    "                    batch_size=1024)"
   ]
  }
 ],
 "metadata": {
  "kernelspec": {
   "display_name": "PipenvPokethon",
   "language": "python",
   "name": "pipenvpokethon"
  },
  "language_info": {
   "codemirror_mode": {
    "name": "ipython",
    "version": 3
   },
   "file_extension": ".py",
   "mimetype": "text/x-python",
   "name": "python",
   "nbconvert_exporter": "python",
   "pygments_lexer": "ipython3",
   "version": "3.6.9"
  }
 },
 "nbformat": 4,
 "nbformat_minor": 4
}
