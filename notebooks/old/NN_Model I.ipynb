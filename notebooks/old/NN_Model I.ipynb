{
 "cells": [
  {
   "cell_type": "markdown",
   "metadata": {},
   "source": [
    "# NN Model I\n",
    "\n",
    "- Try out Fast.ai tabular_learner"
   ]
  },
  {
   "cell_type": "code",
   "execution_count": 1,
   "metadata": {},
   "outputs": [],
   "source": [
    "import fastai\n",
    "from fastai.tabular import *\n",
    "import sklearn\n",
    "import sys\n",
    "import numpy as np\n",
    "import os\n",
    "import matplotlib.pyplot as plt\n",
    "\n",
    "from sklearn.model_selection import train_test_split\n",
    "from sklearn.compose import ColumnTransformer\n",
    "from sklearn.pipeline import Pipeline\n",
    "from sklearn.base import BaseEstimator, TransformerMixin\n",
    "from kedro.extras.datasets.pandas import CSVDataSet"
   ]
  },
  {
   "cell_type": "markdown",
   "metadata": {},
   "source": [
    "### Loading Data"
   ]
  },
  {
   "cell_type": "code",
   "execution_count": 2,
   "metadata": {},
   "outputs": [
    {
     "name": "stdout",
     "output_type": "stream",
     "text": [
      "2020-05-24 17:38:02,016 - kedro.io.data_catalog - INFO - Loading data from `Battle_Results_Train` (CSVDataSet)...\n"
     ]
    }
   ],
   "source": [
    "BattleResults = catalog.load('Battle_Results_Train')"
   ]
  },
  {
   "cell_type": "code",
   "execution_count": 3,
   "metadata": {},
   "outputs": [
    {
     "data": {
      "text/html": [
       "<div>\n",
       "<style scoped>\n",
       "    .dataframe tbody tr th:only-of-type {\n",
       "        vertical-align: middle;\n",
       "    }\n",
       "\n",
       "    .dataframe tbody tr th {\n",
       "        vertical-align: top;\n",
       "    }\n",
       "\n",
       "    .dataframe thead th {\n",
       "        text-align: right;\n",
       "    }\n",
       "</style>\n",
       "<table border=\"1\" class=\"dataframe\">\n",
       "  <thead>\n",
       "    <tr style=\"text-align: right;\">\n",
       "      <th></th>\n",
       "      <th>Name_1</th>\n",
       "      <th>Level_1</th>\n",
       "      <th>HP_1</th>\n",
       "      <th>Attack_1</th>\n",
       "      <th>Defense_1</th>\n",
       "      <th>Sp_Atk_1</th>\n",
       "      <th>Sp_Def_1</th>\n",
       "      <th>Speed_1</th>\n",
       "      <th>Legendary_1</th>\n",
       "      <th>Name_2</th>\n",
       "      <th>Level_2</th>\n",
       "      <th>HP_2</th>\n",
       "      <th>Attack_2</th>\n",
       "      <th>Defense_2</th>\n",
       "      <th>Sp_Atk_2</th>\n",
       "      <th>Sp_Def_2</th>\n",
       "      <th>Speed_2</th>\n",
       "      <th>Legendary_2</th>\n",
       "      <th>WeatherAndTime</th>\n",
       "      <th>BattleResult</th>\n",
       "    </tr>\n",
       "  </thead>\n",
       "  <tbody>\n",
       "    <tr>\n",
       "      <th>0</th>\n",
       "      <td>Psyduck</td>\n",
       "      <td>8</td>\n",
       "      <td>68</td>\n",
       "      <td>65</td>\n",
       "      <td>59</td>\n",
       "      <td>82</td>\n",
       "      <td>63</td>\n",
       "      <td>69</td>\n",
       "      <td>False</td>\n",
       "      <td>Weedle</td>\n",
       "      <td>75</td>\n",
       "      <td>336</td>\n",
       "      <td>192</td>\n",
       "      <td>172</td>\n",
       "      <td>103</td>\n",
       "      <td>103</td>\n",
       "      <td>279</td>\n",
       "      <td>False</td>\n",
       "      <td>Unknown</td>\n",
       "      <td>-336</td>\n",
       "    </tr>\n",
       "    <tr>\n",
       "      <th>1</th>\n",
       "      <td>Rapidash</td>\n",
       "      <td>86</td>\n",
       "      <td>691</td>\n",
       "      <td>707</td>\n",
       "      <td>492</td>\n",
       "      <td>571</td>\n",
       "      <td>571</td>\n",
       "      <td>752</td>\n",
       "      <td>False</td>\n",
       "      <td>Zapdos</td>\n",
       "      <td>72</td>\n",
       "      <td>607</td>\n",
       "      <td>523</td>\n",
       "      <td>499</td>\n",
       "      <td>722</td>\n",
       "      <td>523</td>\n",
       "      <td>577</td>\n",
       "      <td>True</td>\n",
       "      <td>Sunshine</td>\n",
       "      <td>133</td>\n",
       "    </tr>\n",
       "    <tr>\n",
       "      <th>2</th>\n",
       "      <td>Dratini</td>\n",
       "      <td>93</td>\n",
       "      <td>636</td>\n",
       "      <td>698</td>\n",
       "      <td>484</td>\n",
       "      <td>538</td>\n",
       "      <td>538</td>\n",
       "      <td>538</td>\n",
       "      <td>False</td>\n",
       "      <td>Marowak</td>\n",
       "      <td>73</td>\n",
       "      <td>446</td>\n",
       "      <td>529</td>\n",
       "      <td>720</td>\n",
       "      <td>328</td>\n",
       "      <td>529</td>\n",
       "      <td>284</td>\n",
       "      <td>False</td>\n",
       "      <td>Windy</td>\n",
       "      <td>324</td>\n",
       "    </tr>\n",
       "    <tr>\n",
       "      <th>3</th>\n",
       "      <td>Horsea</td>\n",
       "      <td>6</td>\n",
       "      <td>41</td>\n",
       "      <td>47</td>\n",
       "      <td>85</td>\n",
       "      <td>85</td>\n",
       "      <td>29</td>\n",
       "      <td>72</td>\n",
       "      <td>False</td>\n",
       "      <td>Moltres</td>\n",
       "      <td>86</td>\n",
       "      <td>919</td>\n",
       "      <td>886</td>\n",
       "      <td>797</td>\n",
       "      <td>1088</td>\n",
       "      <td>750</td>\n",
       "      <td>797</td>\n",
       "      <td>True</td>\n",
       "      <td>Night</td>\n",
       "      <td>-919</td>\n",
       "    </tr>\n",
       "    <tr>\n",
       "      <th>4</th>\n",
       "      <td>Golbat</td>\n",
       "      <td>78</td>\n",
       "      <td>571</td>\n",
       "      <td>519</td>\n",
       "      <td>449</td>\n",
       "      <td>400</td>\n",
       "      <td>481</td>\n",
       "      <td>567</td>\n",
       "      <td>False</td>\n",
       "      <td>Kingler</td>\n",
       "      <td>96</td>\n",
       "      <td>637</td>\n",
       "      <td>1178</td>\n",
       "      <td>1049</td>\n",
       "      <td>456</td>\n",
       "      <td>456</td>\n",
       "      <td>682</td>\n",
       "      <td>False</td>\n",
       "      <td>Unknown</td>\n",
       "      <td>-560</td>\n",
       "    </tr>\n",
       "  </tbody>\n",
       "</table>\n",
       "</div>"
      ],
      "text/plain": [
       "     Name_1  Level_1  HP_1  Attack_1  Defense_1  Sp_Atk_1  Sp_Def_1  Speed_1  \\\n",
       "0   Psyduck        8    68        65         59        82        63       69   \n",
       "1  Rapidash       86   691       707        492       571       571      752   \n",
       "2   Dratini       93   636       698        484       538       538      538   \n",
       "3    Horsea        6    41        47         85        85        29       72   \n",
       "4    Golbat       78   571       519        449       400       481      567   \n",
       "\n",
       "   Legendary_1   Name_2  Level_2  HP_2  Attack_2  Defense_2  Sp_Atk_2  \\\n",
       "0        False   Weedle       75   336       192        172       103   \n",
       "1        False   Zapdos       72   607       523        499       722   \n",
       "2        False  Marowak       73   446       529        720       328   \n",
       "3        False  Moltres       86   919       886        797      1088   \n",
       "4        False  Kingler       96   637      1178       1049       456   \n",
       "\n",
       "   Sp_Def_2  Speed_2  Legendary_2 WeatherAndTime  BattleResult  \n",
       "0       103      279        False        Unknown          -336  \n",
       "1       523      577         True       Sunshine           133  \n",
       "2       529      284        False          Windy           324  \n",
       "3       750      797         True          Night          -919  \n",
       "4       456      682        False        Unknown          -560  "
      ]
     },
     "execution_count": 3,
     "metadata": {},
     "output_type": "execute_result"
    }
   ],
   "source": [
    "BattleResults.head()"
   ]
  },
  {
   "cell_type": "code",
   "execution_count": 4,
   "metadata": {},
   "outputs": [
    {
     "data": {
      "text/plain": [
       "Index(['Name_1', 'Level_1', 'HP_1', 'Attack_1', 'Defense_1', 'Sp_Atk_1',\n",
       "       'Sp_Def_1', 'Speed_1', 'Legendary_1', 'Name_2', 'Level_2', 'HP_2',\n",
       "       'Attack_2', 'Defense_2', 'Sp_Atk_2', 'Sp_Def_2', 'Speed_2',\n",
       "       'Legendary_2', 'WeatherAndTime', 'BattleResult'],\n",
       "      dtype='object')"
      ]
     },
     "execution_count": 4,
     "metadata": {},
     "output_type": "execute_result"
    }
   ],
   "source": [
    "BattleResults.columns"
   ]
  },
  {
   "cell_type": "markdown",
   "metadata": {},
   "source": [
    "### Data Pipeline"
   ]
  },
  {
   "cell_type": "code",
   "execution_count": 5,
   "metadata": {},
   "outputs": [],
   "source": [
    "data = BattleResults.drop(columns=['Name_1', 'Name_2'])"
   ]
  },
  {
   "cell_type": "code",
   "execution_count": 6,
   "metadata": {},
   "outputs": [],
   "source": [
    "train_data, val_data = train_test_split(data, test_size=0.2, random_state=42)"
   ]
  },
  {
   "cell_type": "code",
   "execution_count": 7,
   "metadata": {},
   "outputs": [],
   "source": [
    "train_data = train_data.iloc[:100000]"
   ]
  },
  {
   "cell_type": "code",
   "execution_count": 27,
   "metadata": {},
   "outputs": [
    {
     "name": "stderr",
     "output_type": "stream",
     "text": [
      "/home/joel/.local/share/virtualenvs/pokethon-gj-dbL-j/lib/python3.6/site-packages/ipykernel_launcher.py:6: SettingWithCopyWarning: \n",
      "A value is trying to be set on a copy of a slice from a DataFrame.\n",
      "Try using .loc[row_indexer,col_indexer] = value instead\n",
      "\n",
      "See the caveats in the documentation: https://pandas.pydata.org/pandas-docs/stable/user_guide/indexing.html#returning-a-view-versus-a-copy\n",
      "  \n"
     ]
    }
   ],
   "source": [
    "def RelativeResult(X):\n",
    "    HP = X.apply(lambda row: row[\"HP_1\"] if row[\"BattleResult\"] > 0 else row[\"HP_2\"], axis=1).values\n",
    "    relativized = X[\"BattleResult\"].values / HP\n",
    "    return relativized\n",
    "\n",
    "train_data['BattleResult'] = RelativeResult(train_data)"
   ]
  },
  {
   "cell_type": "code",
   "execution_count": 8,
   "metadata": {},
   "outputs": [
    {
     "data": {
      "text/html": [
       "<div>\n",
       "<style scoped>\n",
       "    .dataframe tbody tr th:only-of-type {\n",
       "        vertical-align: middle;\n",
       "    }\n",
       "\n",
       "    .dataframe tbody tr th {\n",
       "        vertical-align: top;\n",
       "    }\n",
       "\n",
       "    .dataframe thead th {\n",
       "        text-align: right;\n",
       "    }\n",
       "</style>\n",
       "<table border=\"1\" class=\"dataframe\">\n",
       "  <thead>\n",
       "    <tr style=\"text-align: right;\">\n",
       "      <th></th>\n",
       "      <th>Level_1</th>\n",
       "      <th>HP_1</th>\n",
       "      <th>Attack_1</th>\n",
       "      <th>Defense_1</th>\n",
       "      <th>Sp_Atk_1</th>\n",
       "      <th>Sp_Def_1</th>\n",
       "      <th>Speed_1</th>\n",
       "      <th>Legendary_1</th>\n",
       "      <th>Level_2</th>\n",
       "      <th>HP_2</th>\n",
       "      <th>Attack_2</th>\n",
       "      <th>Defense_2</th>\n",
       "      <th>Sp_Atk_2</th>\n",
       "      <th>Sp_Def_2</th>\n",
       "      <th>Speed_2</th>\n",
       "      <th>Legendary_2</th>\n",
       "      <th>WeatherAndTime</th>\n",
       "      <th>BattleResult</th>\n",
       "    </tr>\n",
       "  </thead>\n",
       "  <tbody>\n",
       "    <tr>\n",
       "      <th>1463814</th>\n",
       "      <td>71</td>\n",
       "      <td>360</td>\n",
       "      <td>650</td>\n",
       "      <td>279</td>\n",
       "      <td>197</td>\n",
       "      <td>595</td>\n",
       "      <td>478</td>\n",
       "      <td>False</td>\n",
       "      <td>78</td>\n",
       "      <td>679</td>\n",
       "      <td>656</td>\n",
       "      <td>458</td>\n",
       "      <td>315</td>\n",
       "      <td>399</td>\n",
       "      <td>285</td>\n",
       "      <td>False</td>\n",
       "      <td>Night</td>\n",
       "      <td>-445</td>\n",
       "    </tr>\n",
       "    <tr>\n",
       "      <th>72186</th>\n",
       "      <td>86</td>\n",
       "      <td>675</td>\n",
       "      <td>832</td>\n",
       "      <td>990</td>\n",
       "      <td>389</td>\n",
       "      <td>389</td>\n",
       "      <td>299</td>\n",
       "      <td>False</td>\n",
       "      <td>64</td>\n",
       "      <td>361</td>\n",
       "      <td>320</td>\n",
       "      <td>308</td>\n",
       "      <td>336</td>\n",
       "      <td>416</td>\n",
       "      <td>416</td>\n",
       "      <td>False</td>\n",
       "      <td>Windy</td>\n",
       "      <td>622</td>\n",
       "    </tr>\n",
       "    <tr>\n",
       "      <th>2151070</th>\n",
       "      <td>47</td>\n",
       "      <td>163</td>\n",
       "      <td>204</td>\n",
       "      <td>149</td>\n",
       "      <td>191</td>\n",
       "      <td>191</td>\n",
       "      <td>327</td>\n",
       "      <td>False</td>\n",
       "      <td>10</td>\n",
       "      <td>72</td>\n",
       "      <td>57</td>\n",
       "      <td>57</td>\n",
       "      <td>57</td>\n",
       "      <td>57</td>\n",
       "      <td>57</td>\n",
       "      <td>False</td>\n",
       "      <td>Windy</td>\n",
       "      <td>163</td>\n",
       "    </tr>\n",
       "    <tr>\n",
       "      <th>1275428</th>\n",
       "      <td>70</td>\n",
       "      <td>538</td>\n",
       "      <td>471</td>\n",
       "      <td>471</td>\n",
       "      <td>471</td>\n",
       "      <td>471</td>\n",
       "      <td>471</td>\n",
       "      <td>False</td>\n",
       "      <td>45</td>\n",
       "      <td>198</td>\n",
       "      <td>132</td>\n",
       "      <td>184</td>\n",
       "      <td>209</td>\n",
       "      <td>209</td>\n",
       "      <td>368</td>\n",
       "      <td>False</td>\n",
       "      <td>Windy</td>\n",
       "      <td>538</td>\n",
       "    </tr>\n",
       "    <tr>\n",
       "      <th>744848</th>\n",
       "      <td>96</td>\n",
       "      <td>530</td>\n",
       "      <td>663</td>\n",
       "      <td>416</td>\n",
       "      <td>416</td>\n",
       "      <td>585</td>\n",
       "      <td>1014</td>\n",
       "      <td>False</td>\n",
       "      <td>15</td>\n",
       "      <td>117</td>\n",
       "      <td>127</td>\n",
       "      <td>139</td>\n",
       "      <td>45</td>\n",
       "      <td>45</td>\n",
       "      <td>36</td>\n",
       "      <td>False</td>\n",
       "      <td>Windy</td>\n",
       "      <td>530</td>\n",
       "    </tr>\n",
       "  </tbody>\n",
       "</table>\n",
       "</div>"
      ],
      "text/plain": [
       "         Level_1  HP_1  Attack_1  Defense_1  Sp_Atk_1  Sp_Def_1  Speed_1  \\\n",
       "1463814       71   360       650        279       197       595      478   \n",
       "72186         86   675       832        990       389       389      299   \n",
       "2151070       47   163       204        149       191       191      327   \n",
       "1275428       70   538       471        471       471       471      471   \n",
       "744848        96   530       663        416       416       585     1014   \n",
       "\n",
       "         Legendary_1  Level_2  HP_2  Attack_2  Defense_2  Sp_Atk_2  Sp_Def_2  \\\n",
       "1463814        False       78   679       656        458       315       399   \n",
       "72186          False       64   361       320        308       336       416   \n",
       "2151070        False       10    72        57         57        57        57   \n",
       "1275428        False       45   198       132        184       209       209   \n",
       "744848         False       15   117       127        139        45        45   \n",
       "\n",
       "         Speed_2  Legendary_2 WeatherAndTime  BattleResult  \n",
       "1463814      285        False          Night          -445  \n",
       "72186        416        False          Windy           622  \n",
       "2151070       57        False          Windy           163  \n",
       "1275428      368        False          Windy           538  \n",
       "744848        36        False          Windy           530  "
      ]
     },
     "execution_count": 8,
     "metadata": {},
     "output_type": "execute_result"
    }
   ],
   "source": [
    "train_data.head()"
   ]
  },
  {
   "cell_type": "markdown",
   "metadata": {},
   "source": [
    "### Train"
   ]
  },
  {
   "cell_type": "code",
   "execution_count": 14,
   "metadata": {},
   "outputs": [],
   "source": [
    "procs= [FillMissing, Categorify, Normalize]\n",
    "cat_names=['WeatherAndTime', 'Legendary_1', 'Legendary_2']\n",
    "cont_names=['HP_1', 'Attack_1', 'Defense_1', 'Sp_Atk_1', 'Sp_Def_1', 'Speed_1', \n",
    "            'HP_2', 'Attack_2', 'Defense_2', 'Sp_Atk_2', 'Sp_Def_2', 'Speed_2']\n",
    "x = np.random.permutation(len(train_data))"
   ]
  },
  {
   "cell_type": "code",
   "execution_count": 15,
   "metadata": {},
   "outputs": [],
   "source": [
    "test = TabularList.from_df(val_data, cat_names=cat_names, cont_names=cont_names, procs=procs)"
   ]
  },
  {
   "cell_type": "code",
   "execution_count": 16,
   "metadata": {},
   "outputs": [],
   "source": [
    "tabular_data = (TabularList.from_df(train_data, cat_names=cat_names, cont_names=cont_names, procs=procs)\n",
    "                           .split_by_idx(x[:300000])\n",
    "                           .label_from_df(cols='BattleResult', label_cls=FloatList)\n",
    "                           .add_test(test)\n",
    "                           .databunch())"
   ]
  },
  {
   "cell_type": "code",
   "execution_count": 17,
   "metadata": {},
   "outputs": [
    {
     "ename": "StopIteration",
     "evalue": "",
     "output_type": "error",
     "traceback": [
      "\u001b[0;31m---------------------------------------------------------------------------\u001b[0m",
      "\u001b[0;31mStopIteration\u001b[0m                             Traceback (most recent call last)",
      "\u001b[0;32m<ipython-input-17-be5bd04328dc>\u001b[0m in \u001b[0;36m<module>\u001b[0;34m\u001b[0m\n\u001b[0;32m----> 1\u001b[0;31m \u001b[0mtabular_data\u001b[0m\u001b[0;34m.\u001b[0m\u001b[0mshow_batch\u001b[0m\u001b[0;34m(\u001b[0m\u001b[0;34m)\u001b[0m\u001b[0;34m\u001b[0m\u001b[0;34m\u001b[0m\u001b[0m\n\u001b[0m",
      "\u001b[0;32m~/.local/share/virtualenvs/pokethon-gj-dbL-j/lib/python3.6/site-packages/fastai/basic_data.py\u001b[0m in \u001b[0;36mshow_batch\u001b[0;34m(self, rows, ds_type, reverse, **kwargs)\u001b[0m\n\u001b[1;32m    184\u001b[0m     \u001b[0;32mdef\u001b[0m \u001b[0mshow_batch\u001b[0m\u001b[0;34m(\u001b[0m\u001b[0mself\u001b[0m\u001b[0;34m,\u001b[0m \u001b[0mrows\u001b[0m\u001b[0;34m:\u001b[0m\u001b[0mint\u001b[0m\u001b[0;34m=\u001b[0m\u001b[0;36m5\u001b[0m\u001b[0;34m,\u001b[0m \u001b[0mds_type\u001b[0m\u001b[0;34m:\u001b[0m\u001b[0mDatasetType\u001b[0m\u001b[0;34m=\u001b[0m\u001b[0mDatasetType\u001b[0m\u001b[0;34m.\u001b[0m\u001b[0mTrain\u001b[0m\u001b[0;34m,\u001b[0m \u001b[0mreverse\u001b[0m\u001b[0;34m:\u001b[0m\u001b[0mbool\u001b[0m\u001b[0;34m=\u001b[0m\u001b[0;32mFalse\u001b[0m\u001b[0;34m,\u001b[0m \u001b[0;34m**\u001b[0m\u001b[0mkwargs\u001b[0m\u001b[0;34m)\u001b[0m\u001b[0;34m->\u001b[0m\u001b[0;32mNone\u001b[0m\u001b[0;34m:\u001b[0m\u001b[0;34m\u001b[0m\u001b[0;34m\u001b[0m\u001b[0m\n\u001b[1;32m    185\u001b[0m         \u001b[0;34m\"Show a batch of data in `ds_type` on a few `rows`.\"\u001b[0m\u001b[0;34m\u001b[0m\u001b[0;34m\u001b[0m\u001b[0m\n\u001b[0;32m--> 186\u001b[0;31m         \u001b[0mx\u001b[0m\u001b[0;34m,\u001b[0m\u001b[0my\u001b[0m \u001b[0;34m=\u001b[0m \u001b[0mself\u001b[0m\u001b[0;34m.\u001b[0m\u001b[0mone_batch\u001b[0m\u001b[0;34m(\u001b[0m\u001b[0mds_type\u001b[0m\u001b[0;34m,\u001b[0m \u001b[0;32mTrue\u001b[0m\u001b[0;34m,\u001b[0m \u001b[0;32mTrue\u001b[0m\u001b[0;34m)\u001b[0m\u001b[0;34m\u001b[0m\u001b[0;34m\u001b[0m\u001b[0m\n\u001b[0m\u001b[1;32m    187\u001b[0m         \u001b[0;32mif\u001b[0m \u001b[0mreverse\u001b[0m\u001b[0;34m:\u001b[0m \u001b[0mx\u001b[0m\u001b[0;34m,\u001b[0m\u001b[0my\u001b[0m \u001b[0;34m=\u001b[0m \u001b[0mx\u001b[0m\u001b[0;34m.\u001b[0m\u001b[0mflip\u001b[0m\u001b[0;34m(\u001b[0m\u001b[0;36m0\u001b[0m\u001b[0;34m)\u001b[0m\u001b[0;34m,\u001b[0m\u001b[0my\u001b[0m\u001b[0;34m.\u001b[0m\u001b[0mflip\u001b[0m\u001b[0;34m(\u001b[0m\u001b[0;36m0\u001b[0m\u001b[0;34m)\u001b[0m\u001b[0;34m\u001b[0m\u001b[0;34m\u001b[0m\u001b[0m\n\u001b[1;32m    188\u001b[0m         \u001b[0mn_items\u001b[0m \u001b[0;34m=\u001b[0m \u001b[0mrows\u001b[0m \u001b[0;34m**\u001b[0m\u001b[0;36m2\u001b[0m \u001b[0;32mif\u001b[0m \u001b[0mself\u001b[0m\u001b[0;34m.\u001b[0m\u001b[0mtrain_ds\u001b[0m\u001b[0;34m.\u001b[0m\u001b[0mx\u001b[0m\u001b[0;34m.\u001b[0m\u001b[0m_square_show\u001b[0m \u001b[0;32melse\u001b[0m \u001b[0mrows\u001b[0m\u001b[0;34m\u001b[0m\u001b[0;34m\u001b[0m\u001b[0m\n",
      "\u001b[0;32m~/.local/share/virtualenvs/pokethon-gj-dbL-j/lib/python3.6/site-packages/fastai/basic_data.py\u001b[0m in \u001b[0;36mone_batch\u001b[0;34m(self, ds_type, detach, denorm, cpu)\u001b[0m\n\u001b[1;32m    167\u001b[0m         \u001b[0mw\u001b[0m \u001b[0;34m=\u001b[0m \u001b[0mdl\u001b[0m\u001b[0;34m.\u001b[0m\u001b[0mnum_workers\u001b[0m\u001b[0;34m\u001b[0m\u001b[0;34m\u001b[0m\u001b[0m\n\u001b[1;32m    168\u001b[0m         \u001b[0mdl\u001b[0m\u001b[0;34m.\u001b[0m\u001b[0mnum_workers\u001b[0m \u001b[0;34m=\u001b[0m \u001b[0;36m0\u001b[0m\u001b[0;34m\u001b[0m\u001b[0;34m\u001b[0m\u001b[0m\n\u001b[0;32m--> 169\u001b[0;31m         \u001b[0;32mtry\u001b[0m\u001b[0;34m:\u001b[0m     \u001b[0mx\u001b[0m\u001b[0;34m,\u001b[0m\u001b[0my\u001b[0m \u001b[0;34m=\u001b[0m \u001b[0mnext\u001b[0m\u001b[0;34m(\u001b[0m\u001b[0miter\u001b[0m\u001b[0;34m(\u001b[0m\u001b[0mdl\u001b[0m\u001b[0;34m)\u001b[0m\u001b[0;34m)\u001b[0m\u001b[0;34m\u001b[0m\u001b[0;34m\u001b[0m\u001b[0m\n\u001b[0m\u001b[1;32m    170\u001b[0m         \u001b[0;32mfinally\u001b[0m\u001b[0;34m:\u001b[0m \u001b[0mdl\u001b[0m\u001b[0;34m.\u001b[0m\u001b[0mnum_workers\u001b[0m \u001b[0;34m=\u001b[0m \u001b[0mw\u001b[0m\u001b[0;34m\u001b[0m\u001b[0;34m\u001b[0m\u001b[0m\n\u001b[1;32m    171\u001b[0m         \u001b[0;32mif\u001b[0m \u001b[0mdetach\u001b[0m\u001b[0;34m:\u001b[0m \u001b[0mx\u001b[0m\u001b[0;34m,\u001b[0m\u001b[0my\u001b[0m \u001b[0;34m=\u001b[0m \u001b[0mto_detach\u001b[0m\u001b[0;34m(\u001b[0m\u001b[0mx\u001b[0m\u001b[0;34m,\u001b[0m\u001b[0mcpu\u001b[0m\u001b[0;34m=\u001b[0m\u001b[0mcpu\u001b[0m\u001b[0;34m)\u001b[0m\u001b[0;34m,\u001b[0m\u001b[0mto_detach\u001b[0m\u001b[0;34m(\u001b[0m\u001b[0my\u001b[0m\u001b[0;34m,\u001b[0m\u001b[0mcpu\u001b[0m\u001b[0;34m=\u001b[0m\u001b[0mcpu\u001b[0m\u001b[0;34m)\u001b[0m\u001b[0;34m\u001b[0m\u001b[0;34m\u001b[0m\u001b[0m\n",
      "\u001b[0;31mStopIteration\u001b[0m: "
     ]
    }
   ],
   "source": [
    "tabular_data.show_batch()"
   ]
  },
  {
   "cell_type": "code",
   "execution_count": 18,
   "metadata": {},
   "outputs": [],
   "source": [
    "learn = tabular_learner(tabular_data, layers=[200,100], y_range=[-1,1], metrics=mse)"
   ]
  },
  {
   "cell_type": "code",
   "execution_count": 19,
   "metadata": {},
   "outputs": [
    {
     "data": {
      "text/plain": [
       "TabularModel\n",
       "======================================================================\n",
       "Layer (type)         Output Shape         Param #    Trainable \n",
       "======================================================================\n",
       "Embedding            [2]                  2          True      \n",
       "______________________________________________________________________\n",
       "Embedding            [2]                  2          True      \n",
       "______________________________________________________________________\n",
       "Embedding            [2]                  2          True      \n",
       "______________________________________________________________________\n",
       "Dropout              [6]                  0          False     \n",
       "______________________________________________________________________\n",
       "BatchNorm1d          [12]                 24         True      \n",
       "______________________________________________________________________\n",
       "Linear               [200]                3,800      True      \n",
       "______________________________________________________________________\n",
       "ReLU                 [200]                0          False     \n",
       "______________________________________________________________________\n",
       "BatchNorm1d          [200]                400        True      \n",
       "______________________________________________________________________\n",
       "Linear               [100]                20,100     True      \n",
       "______________________________________________________________________\n",
       "ReLU                 [100]                0          False     \n",
       "______________________________________________________________________\n",
       "BatchNorm1d          [100]                200        True      \n",
       "______________________________________________________________________\n",
       "Linear               [1]                  101        True      \n",
       "______________________________________________________________________\n",
       "\n",
       "Total params: 24,631\n",
       "Total trainable params: 24,631\n",
       "Total non-trainable params: 0\n",
       "Optimized with 'torch.optim.adam.Adam', betas=(0.9, 0.99)\n",
       "Using true weight decay as discussed in https://www.fast.ai/2018/07/02/adam-weight-decay/ \n",
       "Loss function : FlattenedLoss\n",
       "======================================================================\n",
       "Callbacks functions applied "
      ]
     },
     "execution_count": 19,
     "metadata": {},
     "output_type": "execute_result"
    }
   ],
   "source": [
    "learn.summary()"
   ]
  },
  {
   "cell_type": "code",
   "execution_count": null,
   "metadata": {},
   "outputs": [],
   "source": [
    "learn."
   ]
  },
  {
   "cell_type": "code",
   "execution_count": 34,
   "metadata": {},
   "outputs": [
    {
     "data": {
      "text/html": [
       "<table border=\"1\" class=\"dataframe\">\n",
       "  <thead>\n",
       "    <tr style=\"text-align: left;\">\n",
       "      <th>epoch</th>\n",
       "      <th>train_loss</th>\n",
       "      <th>valid_loss</th>\n",
       "      <th>mean_squared_error</th>\n",
       "      <th>time</th>\n",
       "    </tr>\n",
       "  </thead>\n",
       "  <tbody>\n",
       "    <tr>\n",
       "      <td>0</td>\n",
       "      <td>0.101853</td>\n",
       "      <td>0.090937</td>\n",
       "      <td>0.090937</td>\n",
       "      <td>02:30</td>\n",
       "    </tr>\n",
       "    <tr>\n",
       "      <td>1</td>\n",
       "      <td>0.107648</td>\n",
       "      <td>0.092120</td>\n",
       "      <td>0.092120</td>\n",
       "      <td>02:32</td>\n",
       "    </tr>\n",
       "  </tbody>\n",
       "</table>"
      ],
      "text/plain": [
       "<IPython.core.display.HTML object>"
      ]
     },
     "metadata": {},
     "output_type": "display_data"
    }
   ],
   "source": [
    "learn.fit(2, 1e-2)"
   ]
  }
 ],
 "metadata": {
  "kernelspec": {
   "display_name": "PipenvPokethon",
   "language": "python",
   "name": "pipenvpokethon"
  },
  "language_info": {
   "codemirror_mode": {
    "name": "ipython",
    "version": 3
   },
   "file_extension": ".py",
   "mimetype": "text/x-python",
   "name": "python",
   "nbconvert_exporter": "python",
   "pygments_lexer": "ipython3",
   "version": "3.6.9"
  }
 },
 "nbformat": 4,
 "nbformat_minor": 4
}
