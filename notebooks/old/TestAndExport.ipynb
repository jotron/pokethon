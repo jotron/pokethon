{
 "cells": [
  {
   "cell_type": "markdown",
   "metadata": {},
   "source": [
    "# Run a Model against the Test-Data and Export its Battle Predictions"
   ]
  },
  {
   "cell_type": "code",
   "execution_count": 22,
   "metadata": {},
   "outputs": [],
   "source": [
    "import pandas as pd\n",
    "import numpy as np\n",
    "import tensorflow as tf\n",
    "import tensorflow.keras as keras\n",
    "import pickle"
   ]
  },
  {
   "cell_type": "code",
   "execution_count": 11,
   "metadata": {},
   "outputs": [],
   "source": [
    "def load(file_name, delimiter='|'):\n",
    "    relative_path = '../data/'\n",
    "    return pd.read_csv(relative_path+file_name, delimiter=delimiter)\n",
    "\n",
    "Submission = load('01_raw/Submission.csv')\n",
    "AvailablePokemons = load('01_raw/AvailablePokemons.csv')\n",
    "BattleResults = load('01_raw/Battle_Results.csv')\n",
    "Weakness_Pokemon = load('01_raw/Weakness_Pokemon.csv')\n",
    "AllPokemons = load('01_raw/All_Pokemons.csv')"
   ]
  },
  {
   "cell_type": "markdown",
   "metadata": {},
   "source": [
    "### Create Inference Data"
   ]
  },
  {
   "cell_type": "code",
   "execution_count": 7,
   "metadata": {},
   "outputs": [],
   "source": [
    "def create_inference_data():\n",
    "    \"\"\"Return Same Format as Battle Results with additional PokemonID column\"\"\"\n",
    "    # Repeat every row 6 times\n",
    "    merged = pd.DataFrame(np.repeat(AvailablePokemons.values,6,axis=0), columns=AvailablePokemons.columns)\n",
    "    # Drop PokemonID from Submission\n",
    "    Submission_dropped = Submission.drop(columns=['SelectedPokemonID'])\n",
    "    # Concat with Submission\n",
    "    merged = merged.apply(lambda row: pd.concat([row, Submission_dropped.iloc[row.name%6]]), axis=1)\n",
    "    return merged"
   ]
  },
  {
   "cell_type": "code",
   "execution_count": 8,
   "metadata": {},
   "outputs": [],
   "source": [
    "inference_data = create_inference_data()"
   ]
  },
  {
   "cell_type": "markdown",
   "metadata": {},
   "source": [
    "### Import Model and Pipeline"
   ]
  },
  {
   "cell_type": "code",
   "execution_count": 21,
   "metadata": {},
   "outputs": [],
   "source": [
    "model = keras.models.load_model('../data/03_models/nn_model')"
   ]
  },
  {
   "cell_type": "code",
   "execution_count": 23,
   "metadata": {},
   "outputs": [
    {
     "ename": "AttributeError",
     "evalue": "Can't get attribute 'AddPokemonTypes' on <module '__main__'>",
     "output_type": "error",
     "traceback": [
      "\u001b[0;31m---------------------------------------------------------------------------\u001b[0m",
      "\u001b[0;31mAttributeError\u001b[0m                            Traceback (most recent call last)",
      "\u001b[0;32m<ipython-input-23-27aba8e37bb8>\u001b[0m in \u001b[0;36m<module>\u001b[0;34m\u001b[0m\n\u001b[1;32m      1\u001b[0m \u001b[0;32mwith\u001b[0m \u001b[0mopen\u001b[0m\u001b[0;34m(\u001b[0m\u001b[0;34m'../data/03_models/nn_pipeline.pickle'\u001b[0m\u001b[0;34m,\u001b[0m \u001b[0;34m'rb'\u001b[0m\u001b[0;34m)\u001b[0m \u001b[0;32mas\u001b[0m \u001b[0mhandle\u001b[0m\u001b[0;34m:\u001b[0m\u001b[0;34m\u001b[0m\u001b[0;34m\u001b[0m\u001b[0m\n\u001b[0;32m----> 2\u001b[0;31m     \u001b[0mpipeline\u001b[0m \u001b[0;34m=\u001b[0m \u001b[0mpickle\u001b[0m\u001b[0;34m.\u001b[0m\u001b[0mload\u001b[0m\u001b[0;34m(\u001b[0m\u001b[0mhandle\u001b[0m\u001b[0;34m)\u001b[0m\u001b[0;34m\u001b[0m\u001b[0;34m\u001b[0m\u001b[0m\n\u001b[0m",
      "\u001b[0;31mAttributeError\u001b[0m: Can't get attribute 'AddPokemonTypes' on <module '__main__'>"
     ]
    }
   ],
   "source": [
    "with open('../data/03_models/nn_pipeline.pickle', 'rb') as handle:\n",
    "    pipeline = pickle.load(handle)"
   ]
  },
  {
   "cell_type": "markdown",
   "metadata": {},
   "source": [
    "### Run Model against Inference"
   ]
  },
  {
   "cell_type": "code",
   "execution_count": 9,
   "metadata": {},
   "outputs": [],
   "source": [
    "x_inference = pipeline.transform(inference_data)\n",
    "inference_predictions = model.predict(x_inference)\n",
    "inference_predictions"
   ]
  },
  {
   "cell_type": "markdown",
   "metadata": {},
   "source": [
    "### Run Model against Test Data"
   ]
  },
  {
   "cell_type": "code",
   "execution_count": 12,
   "metadata": {},
   "outputs": [],
   "source": [
    "from sklearn.metrics import mean_squared_error"
   ]
  },
  {
   "cell_type": "code",
   "execution_count": 15,
   "metadata": {},
   "outputs": [],
   "source": [
    "BattleResults_Test = load('02_intermediate/Battle_Results_Test.csv', delimiter=',')"
   ]
  },
  {
   "cell_type": "code",
   "execution_count": 17,
   "metadata": {},
   "outputs": [],
   "source": [
    "def RelativeResult(X):\n",
    "    HP = X.apply(lambda row: row[\"HP_1\"] if row[\"BattleResult\"] > 0 else row[\"HP_2\"], axis=1).values\n",
    "    relativized = X[\"BattleResult\"].values / HP\n",
    "    return relativized\n",
    "\n",
    "test_labels = RelativeResult(BattleResults_Test)"
   ]
  },
  {
   "cell_type": "code",
   "execution_count": 18,
   "metadata": {},
   "outputs": [
    {
     "data": {
      "text/plain": [
       "1.0537348322623872"
      ]
     },
     "execution_count": 18,
     "metadata": {},
     "output_type": "execute_result"
    }
   ],
   "source": [
    "x_test = pipeline.fit_transform(BattleResults_Test)\n",
    "test_predictions = model.predict(x_test)\n",
    "lin_mse = mean_squared_error(test_labels, test_predictions)\n",
    "lin_rmse = np.sqrt(lin_mse)\n",
    "lin_rmse"
   ]
  },
  {
   "cell_type": "markdown",
   "metadata": {},
   "source": [
    "### Export"
   ]
  },
  {
   "cell_type": "code",
   "execution_count": 39,
   "metadata": {},
   "outputs": [
    {
     "data": {
      "text/html": [
       "<div>\n",
       "<style scoped>\n",
       "    .dataframe tbody tr th:only-of-type {\n",
       "        vertical-align: middle;\n",
       "    }\n",
       "\n",
       "    .dataframe tbody tr th {\n",
       "        vertical-align: top;\n",
       "    }\n",
       "\n",
       "    .dataframe thead th {\n",
       "        text-align: right;\n",
       "    }\n",
       "</style>\n",
       "<table border=\"1\" class=\"dataframe\">\n",
       "  <thead>\n",
       "    <tr style=\"text-align: right;\">\n",
       "      <th></th>\n",
       "      <th>SelectedPokemonID</th>\n",
       "      <th>Caterpie</th>\n",
       "      <th>Golem</th>\n",
       "      <th>Krabby</th>\n",
       "      <th>Mewtwo</th>\n",
       "      <th>Raichu</th>\n",
       "      <th>Venusaur</th>\n",
       "    </tr>\n",
       "  </thead>\n",
       "  <tbody>\n",
       "    <tr>\n",
       "      <th>0</th>\n",
       "      <td>0</td>\n",
       "      <td>-0.673347</td>\n",
       "      <td>0.876185</td>\n",
       "      <td>-0.001903</td>\n",
       "      <td>0.044104</td>\n",
       "      <td>-0.088475</td>\n",
       "      <td>-0.505112</td>\n",
       "    </tr>\n",
       "    <tr>\n",
       "      <th>1</th>\n",
       "      <td>1</td>\n",
       "      <td>0.331356</td>\n",
       "      <td>-0.544088</td>\n",
       "      <td>-0.307657</td>\n",
       "      <td>-0.095056</td>\n",
       "      <td>0.942036</td>\n",
       "      <td>0.677011</td>\n",
       "    </tr>\n",
       "    <tr>\n",
       "      <th>2</th>\n",
       "      <td>2</td>\n",
       "      <td>-0.015797</td>\n",
       "      <td>0.358002</td>\n",
       "      <td>0.620032</td>\n",
       "      <td>-0.089927</td>\n",
       "      <td>0.357616</td>\n",
       "      <td>-0.313250</td>\n",
       "    </tr>\n",
       "    <tr>\n",
       "      <th>3</th>\n",
       "      <td>3</td>\n",
       "      <td>-0.178182</td>\n",
       "      <td>0.111369</td>\n",
       "      <td>0.016455</td>\n",
       "      <td>0.698512</td>\n",
       "      <td>-0.363971</td>\n",
       "      <td>-0.096498</td>\n",
       "    </tr>\n",
       "    <tr>\n",
       "      <th>4</th>\n",
       "      <td>4</td>\n",
       "      <td>0.646152</td>\n",
       "      <td>-0.913883</td>\n",
       "      <td>-0.551524</td>\n",
       "      <td>0.192226</td>\n",
       "      <td>0.147515</td>\n",
       "      <td>0.325275</td>\n",
       "    </tr>\n",
       "    <tr>\n",
       "      <th>...</th>\n",
       "      <td>...</td>\n",
       "      <td>...</td>\n",
       "      <td>...</td>\n",
       "      <td>...</td>\n",
       "      <td>...</td>\n",
       "      <td>...</td>\n",
       "      <td>...</td>\n",
       "    </tr>\n",
       "    <tr>\n",
       "      <th>1435</th>\n",
       "      <td>1435</td>\n",
       "      <td>-0.070775</td>\n",
       "      <td>-0.844019</td>\n",
       "      <td>-0.052456</td>\n",
       "      <td>0.827367</td>\n",
       "      <td>-0.387723</td>\n",
       "      <td>-0.636623</td>\n",
       "    </tr>\n",
       "    <tr>\n",
       "      <th>1436</th>\n",
       "      <td>1436</td>\n",
       "      <td>-0.721260</td>\n",
       "      <td>0.961378</td>\n",
       "      <td>-0.101890</td>\n",
       "      <td>0.150286</td>\n",
       "      <td>-0.840004</td>\n",
       "      <td>0.786808</td>\n",
       "    </tr>\n",
       "    <tr>\n",
       "      <th>1437</th>\n",
       "      <td>1437</td>\n",
       "      <td>-0.712511</td>\n",
       "      <td>0.375991</td>\n",
       "      <td>-0.128202</td>\n",
       "      <td>-0.922079</td>\n",
       "      <td>0.623179</td>\n",
       "      <td>0.227376</td>\n",
       "    </tr>\n",
       "    <tr>\n",
       "      <th>1438</th>\n",
       "      <td>1438</td>\n",
       "      <td>-0.306187</td>\n",
       "      <td>0.583784</td>\n",
       "      <td>-0.799536</td>\n",
       "      <td>-0.608873</td>\n",
       "      <td>0.365639</td>\n",
       "      <td>-0.058822</td>\n",
       "    </tr>\n",
       "    <tr>\n",
       "      <th>1439</th>\n",
       "      <td>1439</td>\n",
       "      <td>0.106351</td>\n",
       "      <td>-0.608994</td>\n",
       "      <td>-0.300343</td>\n",
       "      <td>-0.853676</td>\n",
       "      <td>0.228961</td>\n",
       "      <td>0.147411</td>\n",
       "    </tr>\n",
       "  </tbody>\n",
       "</table>\n",
       "<p>1440 rows × 7 columns</p>\n",
       "</div>"
      ],
      "text/plain": [
       "      SelectedPokemonID  Caterpie     Golem    Krabby    Mewtwo    Raichu  \\\n",
       "0                     0 -0.673347  0.876185 -0.001903  0.044104 -0.088475   \n",
       "1                     1  0.331356 -0.544088 -0.307657 -0.095056  0.942036   \n",
       "2                     2 -0.015797  0.358002  0.620032 -0.089927  0.357616   \n",
       "3                     3 -0.178182  0.111369  0.016455  0.698512 -0.363971   \n",
       "4                     4  0.646152 -0.913883 -0.551524  0.192226  0.147515   \n",
       "...                 ...       ...       ...       ...       ...       ...   \n",
       "1435               1435 -0.070775 -0.844019 -0.052456  0.827367 -0.387723   \n",
       "1436               1436 -0.721260  0.961378 -0.101890  0.150286 -0.840004   \n",
       "1437               1437 -0.712511  0.375991 -0.128202 -0.922079  0.623179   \n",
       "1438               1438 -0.306187  0.583784 -0.799536 -0.608873  0.365639   \n",
       "1439               1439  0.106351 -0.608994 -0.300343 -0.853676  0.228961   \n",
       "\n",
       "      Venusaur  \n",
       "0    -0.505112  \n",
       "1     0.677011  \n",
       "2    -0.313250  \n",
       "3    -0.096498  \n",
       "4     0.325275  \n",
       "...        ...  \n",
       "1435 -0.636623  \n",
       "1436  0.786808  \n",
       "1437  0.227376  \n",
       "1438 -0.058822  \n",
       "1439  0.147411  \n",
       "\n",
       "[1440 rows x 7 columns]"
      ]
     },
     "execution_count": 39,
     "metadata": {},
     "output_type": "execute_result"
    }
   ],
   "source": [
    "def export(predictions):\n",
    "    table = np.empty((len(AvailablePokemons), 7))\n",
    "    for i in range(len(AvailablePokemons)):\n",
    "        table[i, 0] = i\n",
    "        table[i, 1:] = predictions[i*6: (i+1)*6]\n",
    "    df = pd.DataFrame(data=table, columns=['SelectedPokemonID']+list(Submission.Name_2.values)); output\n",
    "    return df.astype({'SelectedPokemonID': int})\n",
    "    \n",
    "output = export(inference_predictions)\n",
    "output"
   ]
  },
  {
   "cell_type": "code",
   "execution_count": 42,
   "metadata": {},
   "outputs": [],
   "source": [
    "output.to_csv(path_or_buf='../../data/07_model_output/Random/inference_random.csv')"
   ]
  }
 ],
 "metadata": {
  "kernelspec": {
   "display_name": "PipenvPokethon",
   "language": "python",
   "name": "pipenvpokethon"
  },
  "language_info": {
   "codemirror_mode": {
    "name": "ipython",
    "version": 3
   },
   "file_extension": ".py",
   "mimetype": "text/x-python",
   "name": "python",
   "nbconvert_exporter": "python",
   "pygments_lexer": "ipython3",
   "version": "3.6.9"
  }
 },
 "nbformat": 4,
 "nbformat_minor": 4
}
