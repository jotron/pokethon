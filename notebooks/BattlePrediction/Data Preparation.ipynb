{
 "cells": [
  {
   "cell_type": "markdown",
   "metadata": {},
   "source": [
    "# Data Preparation"
   ]
  },
  {
   "cell_type": "markdown",
   "metadata": {},
   "source": [
    "- Splits data into a global Training and Test Set.\n",
    "- Drops Price Column."
   ]
  },
  {
   "cell_type": "code",
   "execution_count": 1,
   "metadata": {},
   "outputs": [],
   "source": [
    "import sklearn\n",
    "import sys\n",
    "import numpy as np\n",
    "import os\n",
    "import matplotlib.pyplot as plt\n",
    "\n",
    "from sklearn.model_selection import train_test_split\n",
    "from kedro.extras.datasets.pandas import CSVDataSet"
   ]
  },
  {
   "cell_type": "markdown",
   "metadata": {},
   "source": [
    "### Loading Data"
   ]
  },
  {
   "cell_type": "code",
   "execution_count": 2,
   "metadata": {},
   "outputs": [],
   "source": [
    "catalog = context.catalog"
   ]
  },
  {
   "cell_type": "code",
   "execution_count": 3,
   "metadata": {},
   "outputs": [
    {
     "name": "stdout",
     "output_type": "stream",
     "text": [
      "2020-05-21 22:23:55,580 - kedro.io.data_catalog - INFO - Loading data from `Battle_Results` (CSVDataSet)...\n",
      "2020-05-21 22:24:00,257 - kedro.io.data_catalog - INFO - Loading data from `Weakness_Pokemon` (CSVDataSet)...\n",
      "2020-05-21 22:24:00,266 - kedro.io.data_catalog - INFO - Loading data from `All_Pokemons` (CSVDataSet)...\n"
     ]
    }
   ],
   "source": [
    "Battle_Results = catalog.load('Battle_Results')\n",
    "Weakness_Pokemon = catalog.load('Weakness_Pokemon')\n",
    "AllPokemons = catalog.load('All_Pokemons')"
   ]
  },
  {
   "cell_type": "markdown",
   "metadata": {},
   "source": [
    "### Split Data & Save Test Set"
   ]
  },
  {
   "cell_type": "code",
   "execution_count": 5,
   "metadata": {},
   "outputs": [],
   "source": [
    "Battle_Results.drop(columns=[\"Price_1\", \"Price_2\"], inplace=True)"
   ]
  },
  {
   "cell_type": "code",
   "execution_count": 11,
   "metadata": {},
   "outputs": [],
   "source": [
    "train_val_set, test_set = train_test_split(Battle_Results, test_size=0.1, random_state=42)"
   ]
  },
  {
   "cell_type": "code",
   "execution_count": 7,
   "metadata": {},
   "outputs": [
    {
     "name": "stdout",
     "output_type": "stream",
     "text": [
      "2020-05-21 22:24:29,452 - kedro.io.data_catalog - INFO - Saving data to `Battle_Results_Test` (CSVDataSet)...\n"
     ]
    }
   ],
   "source": [
    "catalog.add(\"Battle_Results_Test\", CSVDataSet(filepath=\"../../data/02_intermediate/Battle_Results_Test.csv\"))\n",
    "catalog.save(\"Battle_Results_Test\", test_set)"
   ]
  },
  {
   "cell_type": "code",
   "execution_count": 10,
   "metadata": {},
   "outputs": [
    {
     "name": "stdout",
     "output_type": "stream",
     "text": [
      "2020-05-21 22:25:14,495 - kedro.io.data_catalog - INFO - Saving data to `Battle_Results_Train` (CSVDataSet)...\n"
     ]
    }
   ],
   "source": [
    "catalog.add(\"Battle_Results_Train\", CSVDataSet(filepath=\"../../data/02_intermediate/Battle_Results_Train.csv\"))\n",
    "catalog.save(\"Battle_Results_Train\", train_val_set)"
   ]
  }
 ],
 "metadata": {
  "kernelspec": {
   "display_name": "PipenvEnv",
   "language": "python",
   "name": "pipenvenv"
  },
  "language_info": {
   "codemirror_mode": {
    "name": "ipython",
    "version": 3
   },
   "file_extension": ".py",
   "mimetype": "text/x-python",
   "name": "python",
   "nbconvert_exporter": "python",
   "pygments_lexer": "ipython3",
   "version": "3.6.4"
  }
 },
 "nbformat": 4,
 "nbformat_minor": 4
}
