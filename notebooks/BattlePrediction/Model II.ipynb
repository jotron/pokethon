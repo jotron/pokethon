{
 "cells": [
  {
   "cell_type": "markdown",
   "metadata": {},
   "source": [
    "# A Second SkLearn Model\n",
    "\n",
    "- Based only on the numerical values\n",
    "- Based on Absolute Values\n",
    "- No Level\n",
    "- Target BattleResult, transformed to [-1, 1] Range, "
   ]
  },
  {
   "cell_type": "code",
   "execution_count": 4,
   "metadata": {},
   "outputs": [],
   "source": [
    "import sklearn\n",
    "import sys\n",
    "import numpy as np\n",
    "import os\n",
    "import matplotlib.pyplot as plt\n",
    "\n",
    "from sklearn.model_selection import train_test_split\n",
    "from sklearn.compose import ColumnTransformer\n",
    "from sklearn.pipeline import Pipeline\n",
    "from sklearn.base import BaseEstimator, TransformerMixin\n",
    "from kedro.extras.datasets.pandas import CSVDataSet"
   ]
  },
  {
   "cell_type": "markdown",
   "metadata": {},
   "source": [
    "### Loading Data"
   ]
  },
  {
   "cell_type": "code",
   "execution_count": 2,
   "metadata": {},
   "outputs": [
    {
     "name": "stdout",
     "output_type": "stream",
     "text": [
      "2020-05-23 08:27:20,019 - kedro.io.data_catalog - INFO - Loading data from `Battle_Results_Train` (CSVDataSet)...\n"
     ]
    }
   ],
   "source": [
    "BattleResults = catalog.load('Battle_Results_Train')"
   ]
  },
  {
   "cell_type": "code",
   "execution_count": 3,
   "metadata": {},
   "outputs": [
    {
     "data": {
      "text/html": [
       "<div>\n",
       "<style scoped>\n",
       "    .dataframe tbody tr th:only-of-type {\n",
       "        vertical-align: middle;\n",
       "    }\n",
       "\n",
       "    .dataframe tbody tr th {\n",
       "        vertical-align: top;\n",
       "    }\n",
       "\n",
       "    .dataframe thead th {\n",
       "        text-align: right;\n",
       "    }\n",
       "</style>\n",
       "<table border=\"1\" class=\"dataframe\">\n",
       "  <thead>\n",
       "    <tr style=\"text-align: right;\">\n",
       "      <th></th>\n",
       "      <th>Name_1</th>\n",
       "      <th>Level_1</th>\n",
       "      <th>HP_1</th>\n",
       "      <th>Attack_1</th>\n",
       "      <th>Defense_1</th>\n",
       "      <th>Sp_Atk_1</th>\n",
       "      <th>Sp_Def_1</th>\n",
       "      <th>Speed_1</th>\n",
       "      <th>Legendary_1</th>\n",
       "      <th>Name_2</th>\n",
       "      <th>Level_2</th>\n",
       "      <th>HP_2</th>\n",
       "      <th>Attack_2</th>\n",
       "      <th>Defense_2</th>\n",
       "      <th>Sp_Atk_2</th>\n",
       "      <th>Sp_Def_2</th>\n",
       "      <th>Speed_2</th>\n",
       "      <th>Legendary_2</th>\n",
       "      <th>WeatherAndTime</th>\n",
       "      <th>BattleResult</th>\n",
       "    </tr>\n",
       "  </thead>\n",
       "  <tbody>\n",
       "    <tr>\n",
       "      <th>0</th>\n",
       "      <td>Psyduck</td>\n",
       "      <td>8</td>\n",
       "      <td>68</td>\n",
       "      <td>65</td>\n",
       "      <td>59</td>\n",
       "      <td>82</td>\n",
       "      <td>63</td>\n",
       "      <td>69</td>\n",
       "      <td>False</td>\n",
       "      <td>Weedle</td>\n",
       "      <td>75</td>\n",
       "      <td>336</td>\n",
       "      <td>192</td>\n",
       "      <td>172</td>\n",
       "      <td>103</td>\n",
       "      <td>103</td>\n",
       "      <td>279</td>\n",
       "      <td>False</td>\n",
       "      <td>Unknown</td>\n",
       "      <td>-336</td>\n",
       "    </tr>\n",
       "    <tr>\n",
       "      <th>1</th>\n",
       "      <td>Rapidash</td>\n",
       "      <td>86</td>\n",
       "      <td>691</td>\n",
       "      <td>707</td>\n",
       "      <td>492</td>\n",
       "      <td>571</td>\n",
       "      <td>571</td>\n",
       "      <td>752</td>\n",
       "      <td>False</td>\n",
       "      <td>Zapdos</td>\n",
       "      <td>72</td>\n",
       "      <td>607</td>\n",
       "      <td>523</td>\n",
       "      <td>499</td>\n",
       "      <td>722</td>\n",
       "      <td>523</td>\n",
       "      <td>577</td>\n",
       "      <td>True</td>\n",
       "      <td>Sunshine</td>\n",
       "      <td>133</td>\n",
       "    </tr>\n",
       "    <tr>\n",
       "      <th>2</th>\n",
       "      <td>Dratini</td>\n",
       "      <td>93</td>\n",
       "      <td>636</td>\n",
       "      <td>698</td>\n",
       "      <td>484</td>\n",
       "      <td>538</td>\n",
       "      <td>538</td>\n",
       "      <td>538</td>\n",
       "      <td>False</td>\n",
       "      <td>Marowak</td>\n",
       "      <td>73</td>\n",
       "      <td>446</td>\n",
       "      <td>529</td>\n",
       "      <td>720</td>\n",
       "      <td>328</td>\n",
       "      <td>529</td>\n",
       "      <td>284</td>\n",
       "      <td>False</td>\n",
       "      <td>Windy</td>\n",
       "      <td>324</td>\n",
       "    </tr>\n",
       "    <tr>\n",
       "      <th>3</th>\n",
       "      <td>Horsea</td>\n",
       "      <td>6</td>\n",
       "      <td>41</td>\n",
       "      <td>47</td>\n",
       "      <td>85</td>\n",
       "      <td>85</td>\n",
       "      <td>29</td>\n",
       "      <td>72</td>\n",
       "      <td>False</td>\n",
       "      <td>Moltres</td>\n",
       "      <td>86</td>\n",
       "      <td>919</td>\n",
       "      <td>886</td>\n",
       "      <td>797</td>\n",
       "      <td>1088</td>\n",
       "      <td>750</td>\n",
       "      <td>797</td>\n",
       "      <td>True</td>\n",
       "      <td>Night</td>\n",
       "      <td>-919</td>\n",
       "    </tr>\n",
       "    <tr>\n",
       "      <th>4</th>\n",
       "      <td>Golbat</td>\n",
       "      <td>78</td>\n",
       "      <td>571</td>\n",
       "      <td>519</td>\n",
       "      <td>449</td>\n",
       "      <td>400</td>\n",
       "      <td>481</td>\n",
       "      <td>567</td>\n",
       "      <td>False</td>\n",
       "      <td>Kingler</td>\n",
       "      <td>96</td>\n",
       "      <td>637</td>\n",
       "      <td>1178</td>\n",
       "      <td>1049</td>\n",
       "      <td>456</td>\n",
       "      <td>456</td>\n",
       "      <td>682</td>\n",
       "      <td>False</td>\n",
       "      <td>Unknown</td>\n",
       "      <td>-560</td>\n",
       "    </tr>\n",
       "  </tbody>\n",
       "</table>\n",
       "</div>"
      ],
      "text/plain": [
       "     Name_1  Level_1  HP_1  Attack_1  Defense_1  Sp_Atk_1  Sp_Def_1  Speed_1  \\\n",
       "0   Psyduck        8    68        65         59        82        63       69   \n",
       "1  Rapidash       86   691       707        492       571       571      752   \n",
       "2   Dratini       93   636       698        484       538       538      538   \n",
       "3    Horsea        6    41        47         85        85        29       72   \n",
       "4    Golbat       78   571       519        449       400       481      567   \n",
       "\n",
       "   Legendary_1   Name_2  Level_2  HP_2  Attack_2  Defense_2  Sp_Atk_2  \\\n",
       "0        False   Weedle       75   336       192        172       103   \n",
       "1        False   Zapdos       72   607       523        499       722   \n",
       "2        False  Marowak       73   446       529        720       328   \n",
       "3        False  Moltres       86   919       886        797      1088   \n",
       "4        False  Kingler       96   637      1178       1049       456   \n",
       "\n",
       "   Sp_Def_2  Speed_2  Legendary_2 WeatherAndTime  BattleResult  \n",
       "0       103      279        False        Unknown          -336  \n",
       "1       523      577         True       Sunshine           133  \n",
       "2       529      284        False          Windy           324  \n",
       "3       750      797         True          Night          -919  \n",
       "4       456      682        False        Unknown          -560  "
      ]
     },
     "execution_count": 3,
     "metadata": {},
     "output_type": "execute_result"
    }
   ],
   "source": [
    "BattleResults.head()"
   ]
  },
  {
   "cell_type": "markdown",
   "metadata": {},
   "source": [
    "### Data Pipeline"
   ]
  },
  {
   "cell_type": "code",
   "execution_count": 6,
   "metadata": {},
   "outputs": [],
   "source": [
    "def RelativeResult(X):\n",
    "    HP = X.apply(lambda row: row[\"HP_1\"] if row[\"BattleResult\"] > 0 else row[\"HP_2\"], axis=1).values\n",
    "    relativized = X[\"BattleResult\"].values / HP\n",
    "    return relativized\n",
    "\n",
    "battle_labels = RelativeResult(BattleResults)"
   ]
  },
  {
   "cell_type": "code",
   "execution_count": 7,
   "metadata": {},
   "outputs": [],
   "source": [
    "passthrough_attributes = ['HP_1', 'Attack_1', 'Defense_1', 'Sp_Atk_1', 'Sp_Def_1', 'Speed_1', \n",
    "                          'HP_2', 'Attack_2', 'Defense_2', 'Sp_Atk_2', 'Sp_Def_2', 'Speed_2']\n",
    "full_pipeline = ColumnTransformer([\n",
    "        (\"Pass Through\", \"passthrough\", passthrough_attributes)\n",
    "    ])\n",
    "battle_data = full_pipeline.fit_transform(BattleResults); #battle_data"
   ]
  },
  {
   "cell_type": "markdown",
   "metadata": {},
   "source": [
    "### Train"
   ]
  },
  {
   "cell_type": "code",
   "execution_count": 23,
   "metadata": {},
   "outputs": [],
   "source": [
    "train_x, val_x, train_y, val_y  = train_test_split(battle_data, battle_labels, test_size=0.2, random_state=42)"
   ]
  },
  {
   "cell_type": "code",
   "execution_count": 25,
   "metadata": {},
   "outputs": [
    {
     "data": {
      "text/plain": [
       "array([-0.65537555,  0.92148148,  1.        , ...,  1.        ,\n",
       "        0.92490119, -0.7       ])"
      ]
     },
     "execution_count": 25,
     "metadata": {},
     "output_type": "execute_result"
    }
   ],
   "source": [
    "train_y"
   ]
  },
  {
   "cell_type": "markdown",
   "metadata": {},
   "source": [
    "#### Linear Regression"
   ]
  },
  {
   "cell_type": "code",
   "execution_count": 14,
   "metadata": {},
   "outputs": [],
   "source": [
    "from sklearn.linear_model import LinearRegression\n",
    "from sklearn.tree import DecisionTreeRegressor\n",
    "from sklearn.metrics import mean_squared_error"
   ]
  },
  {
   "cell_type": "code",
   "execution_count": 32,
   "metadata": {},
   "outputs": [
    {
     "name": "stdout",
     "output_type": "stream",
     "text": [
      "Training RMSE: 0.535644211549331\n",
      "Validation RMSE: 0.5358601593137552\n"
     ]
    }
   ],
   "source": [
    "lin_reg = LinearRegression()\n",
    "lin_reg.fit(train_x, train_y)\n",
    "test(lin_reg)"
   ]
  },
  {
   "cell_type": "code",
   "execution_count": 39,
   "metadata": {},
   "outputs": [],
   "source": [
    "def test(estimator):\n",
    "    battle_predictions = estimator.predict(train_x)\n",
    "    mse = mean_squared_error(battle_predictions, train_y)\n",
    "    rmse = np.sqrt(mse)\n",
    "    print(\"Training RMSE: \" + str(rmse))\n",
    "    battle_predictions = estimator.predict(val_x)\n",
    "    mse = mean_squared_error(battle_predictions, val_y)\n",
    "    rmse = np.sqrt(mse)\n",
    "    print(\"Validation RMSE: \" + str(rmse))"
   ]
  },
  {
   "cell_type": "markdown",
   "metadata": {},
   "source": [
    "#### SVM"
   ]
  },
  {
   "cell_type": "code",
   "execution_count": 34,
   "metadata": {},
   "outputs": [],
   "source": [
    "from sklearn.svm import LinearSVR"
   ]
  },
  {
   "cell_type": "code",
   "execution_count": null,
   "metadata": {},
   "outputs": [],
   "source": [
    "svm_reg = LinearSVR(epsilon=0.5, )\n",
    "svm_reg.fit(train_x, train_y)"
   ]
  },
  {
   "cell_type": "code",
   "execution_count": 40,
   "metadata": {},
   "outputs": [
    {
     "name": "stdout",
     "output_type": "stream",
     "text": [
      "Training RMSE: 0.8784365401991504\n",
      "Validation RMSE: 0.878267800430498\n"
     ]
    }
   ],
   "source": [
    "test(svm_reg)"
   ]
  },
  {
   "cell_type": "markdown",
   "metadata": {},
   "source": [
    "#### Random Forests"
   ]
  },
  {
   "cell_type": "markdown",
   "metadata": {},
   "source": [
    "#### PCA ?"
   ]
  }
 ],
 "metadata": {
  "kernelspec": {
   "display_name": "PipenvEnv",
   "language": "python",
   "name": "pipenvenv"
  },
  "language_info": {
   "codemirror_mode": {
    "name": "ipython",
    "version": 3
   },
   "file_extension": ".py",
   "mimetype": "text/x-python",
   "name": "python",
   "nbconvert_exporter": "python",
   "pygments_lexer": "ipython3",
   "version": "3.6.4"
  }
 },
 "nbformat": 4,
 "nbformat_minor": 4
}
